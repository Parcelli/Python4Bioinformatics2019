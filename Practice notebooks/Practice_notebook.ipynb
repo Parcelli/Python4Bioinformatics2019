{
 "cells": [
  {
   "cell_type": "code",
   "execution_count": 1,
   "metadata": {},
   "outputs": [
    {
     "data": {
      "text/plain": [
       "4"
      ]
     },
     "execution_count": 1,
     "metadata": {},
     "output_type": "execute_result"
    }
   ],
   "source": [
    "2 + 2 "
   ]
  },
  {
   "cell_type": "markdown",
   "metadata": {},
   "source": [
    "## My Learning Journey\n",
    "\n",
    "This is a **Jupyter notebook**. I am starting my journey to learn python, and woill be using this to document the process.\n",
    "\n",
    "### 1. Let's do some math in python\n",
    "Python can be used as a calculator. "
   ]
  },
  {
   "cell_type": "code",
   "execution_count": 2,
   "metadata": {},
   "outputs": [
    {
     "data": {
      "text/plain": [
       "15"
      ]
     },
     "execution_count": 2,
     "metadata": {},
     "output_type": "execute_result"
    }
   ],
   "source": [
    "3 * 5"
   ]
  },
  {
   "cell_type": "code",
   "execution_count": 3,
   "metadata": {},
   "outputs": [
    {
     "data": {
      "text/plain": [
       "40"
      ]
     },
     "execution_count": 3,
     "metadata": {},
     "output_type": "execute_result"
    }
   ],
   "source": [
    "45 - 5"
   ]
  },
  {
   "cell_type": "code",
   "execution_count": 4,
   "metadata": {},
   "outputs": [
    {
     "data": {
      "text/plain": [
       "5.0"
      ]
     },
     "execution_count": 4,
     "metadata": {},
     "output_type": "execute_result"
    }
   ],
   "source": [
    "45 / 9"
   ]
  },
  {
   "cell_type": "code",
   "execution_count": 5,
   "metadata": {},
   "outputs": [
    {
     "data": {
      "text/plain": [
       "10.8"
      ]
     },
     "execution_count": 5,
     "metadata": {},
     "output_type": "execute_result"
    }
   ],
   "source": [
    "54 / 5"
   ]
  },
  {
   "cell_type": "code",
   "execution_count": 6,
   "metadata": {},
   "outputs": [
    {
     "data": {
      "text/plain": [
       "10"
      ]
     },
     "execution_count": 6,
     "metadata": {},
     "output_type": "execute_result"
    }
   ],
   "source": [
    "54 // 5"
   ]
  },
  {
   "cell_type": "code",
   "execution_count": 1,
   "metadata": {},
   "outputs": [
    {
     "name": "stdout",
     "output_type": "stream",
     "text": [
      "My name is Parcelli\n"
     ]
    }
   ],
   "source": [
    "print(\"My name is Parcelli\")"
   ]
  },
  {
   "cell_type": "code",
   "execution_count": 2,
   "metadata": {},
   "outputs": [
    {
     "name": "stdout",
     "output_type": "stream",
     "text": [
      "ATCG\n"
     ]
    }
   ],
   "source": [
    "print('ATCG')"
   ]
  },
  {
   "cell_type": "code",
   "execution_count": null,
   "metadata": {},
   "outputs": [],
   "source": []
  },
  {
   "cell_type": "code",
   "execution_count": 1,
   "metadata": {},
   "outputs": [
    {
     "name": "stdin",
     "output_type": "stream",
     "text": [
      "Please enter your name: Parcelli\n"
     ]
    },
    {
     "name": "stdout",
     "output_type": "stream",
     "text": [
      "Parcelli\n"
     ]
    }
   ],
   "source": [
    "print(input('Please enter your name:'))"
   ]
  },
  {
   "cell_type": "code",
   "execution_count": 3,
   "metadata": {},
   "outputs": [
    {
     "name": "stdout",
     "output_type": "stream",
     "text": [
      "name\tID\tage\tgender\n"
     ]
    }
   ],
   "source": [
    "print('name', 'ID', 'age', 'gender', sep='\\t')"
   ]
  },
  {
   "cell_type": "code",
   "execution_count": 4,
   "metadata": {},
   "outputs": [
    {
     "data": {
      "text/plain": [
       "True"
      ]
     },
     "execution_count": 4,
     "metadata": {},
     "output_type": "execute_result"
    }
   ],
   "source": [
    "dna=\"ATCGTAGTACGGTA\"\n",
    "'ATCG' in dna"
   ]
  },
  {
   "cell_type": "code",
   "execution_count": 5,
   "metadata": {},
   "outputs": [
    {
     "data": {
      "text/plain": [
       "False"
      ]
     },
     "execution_count": 5,
     "metadata": {},
     "output_type": "execute_result"
    }
   ],
   "source": [
    "trna='AAGGGCTTAGCTTAATTAAAGTGGCTGATTTGCGTTCAGTTGATGCAGAGTGGGGTTTTGCAGTCCTTA'\n",
    "'ACTG' in trna"
   ]
  },
  {
   "cell_type": "code",
   "execution_count": 6,
   "metadata": {},
   "outputs": [
    {
     "name": "stdout",
     "output_type": "stream",
     "text": [
      "Parcelli...Jepchirchir!!"
     ]
    }
   ],
   "source": [
    "print(\"Parcelli\",\"Jepchirchir\", sep='...', end='!!')"
   ]
  },
  {
   "cell_type": "code",
   "execution_count": 10,
   "metadata": {},
   "outputs": [
    {
     "name": "stdout",
     "output_type": "stream",
     "text": [
      "CTTTTATATTACGCCTCCGGAGCCCTATATAGCCGCCTCGGGATTTTT\n"
     ]
    }
   ],
   "source": [
    "dna = 'AAAAATCCCGAGGCGGCTATATAGGGCTCCGGAGGCGTAATATAAAAG'\n",
    "reverse_dna=(dna[::-1])\n",
    "comp_dna= reverse_dna.replace('A','t').replace('T','a').replace('G','c').replace('C','g')\n",
    "print(comp_dna.upper())"
   ]
  },
  {
   "cell_type": "code",
   "execution_count": 11,
   "metadata": {},
   "outputs": [
    {
     "name": "stdout",
     "output_type": "stream",
     "text": [
      "['A', 'A', 'A', 'A', 'A', 'T', 'C', 'C', 'C', 'G', 'A', 'G', 'G', 'C', 'G', 'G', 'C', 'T', 'A', 'T', 'A', 'T', 'A', 'G', 'G', 'G', 'C', 'T', 'C', 'C', 'G', 'G', 'A', 'G', 'G', 'C', 'G', 'T', 'A', 'A', 'T', 'A', 'T', 'A', 'A', 'A', 'A', 'G']\n"
     ]
    }
   ],
   "source": [
    "dna='AAAAATCCCGAGGCGGCTATATAGGGCTCCGGAGGCGTAATATAAAAG'\n",
    "seq=(list(dna))\n",
    "print(seq)"
   ]
  },
  {
   "cell_type": "code",
   "execution_count": 16,
   "metadata": {},
   "outputs": [
    {
     "data": {
      "text/plain": [
       "'CTTTTATATTACGCCTCCGGAGCCCTATATAGCCGCCTCGGGATTTTT'"
      ]
     },
     "execution_count": 16,
     "metadata": {},
     "output_type": "execute_result"
    }
   ],
   "source": [
    "comp_dna=[]\n",
    "for nuc in seq:\n",
    "    if nuc == 'A':\n",
    "        comp_dna.append('T')\n",
    "    elif nuc == 'T':\n",
    "        comp_dna.append('A')\n",
    "    elif nuc == 'G':\n",
    "        comp_dna.append('C')\n",
    "    elif nuc == 'C':\n",
    "        comp_dna.append('G')\n",
    "''.join(comp_dna[::-1])\n",
    "        "
   ]
  },
  {
   "cell_type": "code",
   "execution_count": 19,
   "metadata": {},
   "outputs": [
    {
     "ename": "IndentationError",
     "evalue": "expected an indented block (<ipython-input-19-67b7c6030d11>, line 1)",
     "output_type": "error",
     "traceback": [
      "\u001b[0;36m  File \u001b[0;32m\"<ipython-input-19-67b7c6030d11>\"\u001b[0;36m, line \u001b[0;32m1\u001b[0m\n\u001b[0;31m    with open('/Data/humchrx.txt','r') as myfile:\u001b[0m\n\u001b[0m                                                 ^\u001b[0m\n\u001b[0;31mIndentationError\u001b[0m\u001b[0;31m:\u001b[0m expected an indented block\n"
     ]
    }
   ],
   "source": [
    "with open('/Data/humchrx.txt','r') as myfile:\n",
    "    "
   ]
  },
  {
   "cell_type": "code",
   "execution_count": 3,
   "metadata": {},
   "outputs": [
    {
     "name": "stdout",
     "output_type": "stream",
     "text": [
      "The third nucleotide is G\n"
     ]
    }
   ],
   "source": [
    "s = 'AAGGGCTTAGCTTAATTAAAGTGGCTGATTTGCGTTCAGTTGATGCAGAGTGGGGTTTTGCAGTCCTT'\n",
    "print('The third nucleotide is', s[3])"
   ]
  },
  {
   "cell_type": "code",
   "execution_count": 9,
   "metadata": {},
   "outputs": [
    {
     "name": "stdout",
     "output_type": "stream",
     "text": [
      "A C G T\n"
     ]
    }
   ],
   "source": [
    "print('A','C','G','T')"
   ]
  },
  {
   "cell_type": "code",
   "execution_count": 23,
   "metadata": {},
   "outputs": [
    {
     "name": "stdout",
     "output_type": "stream",
     "text": [
      "13.660\n"
     ]
    }
   ],
   "source": [
    "print(\"%.3f\"%(13.65987))"
   ]
  },
  {
   "cell_type": "code",
   "execution_count": 31,
   "metadata": {},
   "outputs": [
    {
     "name": "stdout",
     "output_type": "stream",
     "text": [
      "Tuesday afternoon\n",
      "TUESDAY AFTERNOON\n",
      "tuesday afternoon\n",
      "|      tuesday afternoon       |\n"
     ]
    }
   ],
   "source": [
    "day=\"tuesday afternoon\"\n",
    "print(day.capitalize())\n",
    "print(day.upper())\n",
    "print(day.lower())\n",
    "print('|%s|' %\"tuesday afternoon\".center(30))\n",
    "\n"
   ]
  },
  {
   "cell_type": "code",
   "execution_count": null,
   "metadata": {},
   "outputs": [],
   "source": [
    "print('|%s|' % \"Hello World\".center(30))"
   ]
  },
  {
   "cell_type": "code",
   "execution_count": 32,
   "metadata": {},
   "outputs": [
    {
     "name": "stdout",
     "output_type": "stream",
     "text": [
      "['cup', 'plate', 'spoon']\n"
     ]
    }
   ],
   "source": [
    "#Data structures\n",
    "#lists\n",
    "m=['cup','plate','spoon']\n",
    "print(m)"
   ]
  },
  {
   "cell_type": "code",
   "execution_count": 33,
   "metadata": {},
   "outputs": [
    {
     "data": {
      "text/plain": [
       "'cup'"
      ]
     },
     "execution_count": 33,
     "metadata": {},
     "output_type": "execute_result"
    }
   ],
   "source": [
    "m[0]"
   ]
  },
  {
   "cell_type": "code",
   "execution_count": 35,
   "metadata": {},
   "outputs": [
    {
     "name": "stdout",
     "output_type": "stream",
     "text": [
      "['cup', 'plate']\n"
     ]
    }
   ],
   "source": [
    "print(m[0:2])"
   ]
  },
  {
   "cell_type": "code",
   "execution_count": 37,
   "metadata": {},
   "outputs": [
    {
     "name": "stdout",
     "output_type": "stream",
     "text": [
      "['A', 'A', 'G', 'G', 'G', 'C', 'T', 'T', 'A', 'G', 'C', 'T', 'T', 'A', 'A', 'T', 'T', 'A', 'A', 'A', 'G', 'T', 'G', 'G', 'C', 'T', 'G', 'A', 'T', 'T', 'T', 'G', 'C', 'G', 'T', 'T', 'C', 'A', 'G', 'T', 'T', 'G', 'A', 'T', 'G', 'C', 'A', 'G', 'A', 'G', 'T', 'G', 'G', 'G', 'G', 'T', 'T', 'T', 'T', 'G', 'C', 'A', 'G', 'T', 'C', 'C', 'T', 'T']\n"
     ]
    },
    {
     "data": {
      "text/plain": [
       "'T'"
      ]
     },
     "execution_count": 37,
     "metadata": {},
     "output_type": "execute_result"
    }
   ],
   "source": [
    "s = list('AAGGGCTTAGCTTAATTAAAGTGGCTGATTTGCGTTCAGTTGATGCAGAGTGGGGTTTTGCAGTCCTT')\n",
    "print(s)\n",
    "max(s)\n"
   ]
  },
  {
   "cell_type": "code",
   "execution_count": 4,
   "metadata": {},
   "outputs": [
    {
     "name": "stdout",
     "output_type": "stream",
     "text": [
      "This is not a DNA sequence\n"
     ]
    }
   ],
   "source": [
    "s = list('AAGGGCTTAG')\n",
    "a = list('MKJGLISGTR')\n",
    "def dna_checker(dna):\n",
    "    for nuc in dna:\n",
    "        if nuc not in 'ATCG':\n",
    "            print (\"This is not a DNA sequence\")\n",
    "            break\n",
    "        else:\n",
    "            pass\n",
    "\n",
    "dna_checker(s)\n",
    "dna_checker(a)\n",
    "            \n"
   ]
  },
  {
   "cell_type": "code",
   "execution_count": 2,
   "metadata": {},
   "outputs": [
    {
     "name": "stdout",
     "output_type": "stream",
     "text": [
      "The most repeated nuc is T\n"
     ]
    }
   ],
   "source": [
    "dna='TCCCCGGGGGGGG'\n",
    "print('The most repeated nuc is', max(dna, key=len))"
   ]
  },
  {
   "cell_type": "code",
   "execution_count": 16,
   "metadata": {},
   "outputs": [
    {
     "data": {
      "text/plain": [
       "['apple', 'mango']"
      ]
     },
     "execution_count": 16,
     "metadata": {},
     "output_type": "execute_result"
    }
   ],
   "source": [
    "s='apple mango'\n",
    "s.split()"
   ]
  },
  {
   "cell_type": "code",
   "execution_count": 3,
   "metadata": {},
   "outputs": [
    {
     "data": {
      "text/plain": [
       "4"
      ]
     },
     "execution_count": 3,
     "metadata": {},
     "output_type": "execute_result"
    }
   ],
   "source": [
    "dna=list('ATCCCCGGGAAAAATT')\n",
    "dna.count('A')\n",
    "dna.count('C')"
   ]
  },
  {
   "cell_type": "code",
   "execution_count": 5,
   "metadata": {},
   "outputs": [
    {
     "name": "stdout",
     "output_type": "stream",
     "text": [
      "['A', 'T', 'C', 'C', 'C', 'M', 'G', 'G', 'G', 'A', 'A', 'A', 'A', 'A', 'T', 'T']\n"
     ]
    }
   ],
   "source": [
    "dna[5]='M'\n",
    "print(dna)"
   ]
  },
  {
   "cell_type": "code",
   "execution_count": 7,
   "metadata": {},
   "outputs": [
    {
     "name": "stdout",
     "output_type": "stream",
     "text": [
      "['A', 'T', 'C', 'C', 'C', 'M', 'G', 'G', 'G', 'A', 'A', 'A', 'A', 'A']\n"
     ]
    }
   ],
   "source": [
    "dna.pop()\n",
    "print(dna)"
   ]
  },
  {
   "cell_type": "code",
   "execution_count": 9,
   "metadata": {},
   "outputs": [
    {
     "name": "stdout",
     "output_type": "stream",
     "text": [
      "['T', 'C', 'C', 'C', 'M', 'G', 'G', 'G', 'A', 'A', 'A', 'A']\n"
     ]
    }
   ],
   "source": [
    "dna.remove('A')\n",
    "print(dna)"
   ]
  },
  {
   "cell_type": "code",
   "execution_count": 11,
   "metadata": {},
   "outputs": [
    {
     "name": "stdout",
     "output_type": "stream",
     "text": [
      "['T', 'C', 'C', 'C', 'G', 'G', 'G', 'A', 'A', 'A', 'A']\n"
     ]
    }
   ],
   "source": [
    "del (dna[4])\n",
    "print(dna)"
   ]
  },
  {
   "cell_type": "code",
   "execution_count": 20,
   "metadata": {},
   "outputs": [
    {
     "name": "stdout",
     "output_type": "stream",
     "text": [
      "['T', 'C', 'C', 'C', 'C', 'G', 'G', 'G', 'G', 'G', 'G', 'G', 'G']\n"
     ]
    }
   ],
   "source": [
    "dna=list('TCCCCGGGGGGGG')\n",
    "print(dna)\n",
    "\n"
   ]
  },
  {
   "cell_type": "code",
   "execution_count": 23,
   "metadata": {},
   "outputs": [
    {
     "name": "stdout",
     "output_type": "stream",
     "text": [
      "['G', 'G', 'G', 'G', 'G', 'G', 'G', 'G', 'C', 'C', 'C', 'C', 'T']\n"
     ]
    }
   ],
   "source": [
    "dna.reverse()\n",
    "print(dna)"
   ]
  },
  {
   "cell_type": "code",
   "execution_count": 28,
   "metadata": {},
   "outputs": [
    {
     "name": "stdout",
     "output_type": "stream",
     "text": [
      "['m', 'l', 'k', 'h', 'j', 'k', 'n', 'm']\n"
     ]
    }
   ],
   "source": [
    "aa =list('mnkjhklm')\n",
    "aa.reverse()\n",
    "print(aa)"
   ]
  },
  {
   "cell_type": "code",
   "execution_count": 30,
   "metadata": {},
   "outputs": [
    {
     "name": "stdout",
     "output_type": "stream",
     "text": [
      "['h', 'j', 'k', 'k', 'l', 'm', 'm', 'n']\n"
     ]
    }
   ],
   "source": [
    "aa.sort()\n",
    "print(aa)"
   ]
  },
  {
   "cell_type": "code",
   "execution_count": 32,
   "metadata": {},
   "outputs": [
    {
     "name": "stdout",
     "output_type": "stream",
     "text": [
      "[1, 4, 9]\n"
     ]
    }
   ],
   "source": [
    "my_list=[i**2 for i in [1,2,3]]\n",
    "print(my_list)"
   ]
  },
  {
   "cell_type": "code",
   "execution_count": 36,
   "metadata": {},
   "outputs": [
    {
     "name": "stdout",
     "output_type": "stream",
     "text": [
      "(3, 0)\n"
     ]
    }
   ],
   "source": [
    "xyz=divmod(15,5)\n",
    "print(xyz)\n"
   ]
  },
  {
   "cell_type": "code",
   "execution_count": 37,
   "metadata": {},
   "outputs": [
    {
     "data": {
      "text/plain": [
       "tuple"
      ]
     },
     "execution_count": 37,
     "metadata": {},
     "output_type": "execute_result"
    }
   ],
   "source": [
    "type(xyz)"
   ]
  },
  {
   "cell_type": "code",
   "execution_count": 38,
   "metadata": {},
   "outputs": [
    {
     "name": "stdout",
     "output_type": "stream",
     "text": [
      "('P', 'a', 'r', 'c', 'e', 'l', 'l', 'i')\n"
     ]
    }
   ],
   "source": [
    "tuple1=tuple('Parcelli')\n",
    "print(tuple1)"
   ]
  },
  {
   "cell_type": "code",
   "execution_count": 39,
   "metadata": {},
   "outputs": [
    {
     "name": "stdout",
     "output_type": "stream",
     "text": [
      "('P', 'a', 'r', 'c', 'e', 'l')\n"
     ]
    }
   ],
   "source": [
    "print(tuple1[:6])"
   ]
  },
  {
   "cell_type": "code",
   "execution_count": 42,
   "metadata": {},
   "outputs": [
    {
     "name": "stdout",
     "output_type": "stream",
     "text": [
      "blue green yellow\n"
     ]
    }
   ],
   "source": [
    "(x,y,z) = ('blue','green','yellow')\n",
    "print(x,y,z)"
   ]
  },
  {
   "cell_type": "code",
   "execution_count": 43,
   "metadata": {},
   "outputs": [
    {
     "data": {
      "text/plain": [
       "set"
      ]
     },
     "execution_count": 43,
     "metadata": {},
     "output_type": "execute_result"
    }
   ],
   "source": [
    "set1=set()\n",
    "type(set1)"
   ]
  },
  {
   "cell_type": "code",
   "execution_count": 46,
   "metadata": {},
   "outputs": [
    {
     "name": "stdout",
     "output_type": "stream",
     "text": [
      "{'C', 'G', 'T'}\n"
     ]
    }
   ],
   "source": [
    "set2=set('TCCCCGGGGGGGG')\n",
    "print(set2)"
   ]
  },
  {
   "cell_type": "code",
   "execution_count": 53,
   "metadata": {},
   "outputs": [
    {
     "data": {
      "text/plain": [
       "{4, 5, 6, 8}"
      ]
     },
     "execution_count": 53,
     "metadata": {},
     "output_type": "execute_result"
    }
   ],
   "source": [
    "set3=set([1,2,4,7,9])\n",
    "set4=set([1,2,5,6,7,8,9])\n",
    "set3.union(set4)\n",
    "set3.intersection(set4)\n",
    "set4.difference(set3)\n",
    "set4.symmetric_difference(set3)"
   ]
  },
  {
   "cell_type": "code",
   "execution_count": 58,
   "metadata": {},
   "outputs": [
    {
     "name": "stdout",
     "output_type": "stream",
     "text": [
      "{1, 10, 2}\n"
     ]
    }
   ],
   "source": [
    "set1=set([10,1,2,3])\n",
    "set1.pop()\n",
    "print(set1)"
   ]
  },
  {
   "cell_type": "code",
   "execution_count": 59,
   "metadata": {},
   "outputs": [
    {
     "name": "stdout",
     "output_type": "stream",
     "text": [
      "{1, 2}\n"
     ]
    }
   ],
   "source": [
    "set1.remove (10)\n",
    "print(set1)"
   ]
  },
  {
   "cell_type": "code",
   "execution_count": 62,
   "metadata": {},
   "outputs": [
    {
     "name": "stdout",
     "output_type": "stream",
     "text": [
      "set()\n"
     ]
    }
   ],
   "source": [
    "set1.clear()\n",
    "print(set1)"
   ]
  },
  {
   "cell_type": "code",
   "execution_count": 64,
   "metadata": {},
   "outputs": [
    {
     "name": "stdout",
     "output_type": "stream",
     "text": [
      "Bonjour Paris!Thank you for being our capital city\n",
      "Bonjour Nairobi!Thank you for being our capital city\n",
      "Bonjour Khartoum!Thank you for being our capital city\n",
      "Bonjour Djibouti!Thank you for being our capital city\n"
     ]
    }
   ],
   "source": [
    "names=('Paris','Nairobi','Khartoum','Djibouti')\n",
    "for names in names:\n",
    "    gratitude=(\"Bonjour %s!Thank you for being our capital city\" %names)\n",
    "    print(gratitude)\n"
   ]
  },
  {
   "cell_type": "code",
   "execution_count": 2,
   "metadata": {},
   "outputs": [
    {
     "name": "stdout",
     "output_type": "stream",
     "text": [
      "43.75\n",
      "47.05882352941176\n",
      "This ATFRACGATTGHAHYAK is not a DNA sequence\n",
      "17.647058823529413\n"
     ]
    }
   ],
   "source": [
    "mydna=\"CAGTGATGATGACGAT\"\n",
    "yourdna=\"ACGATCGAGACGTAGTA\"\n",
    "testdna=\"ATFRACGATTGHAHYAK\"\n",
    "def percentageGC(dna):\n",
    "    def dna_checker(dna):\n",
    "        for nuc in dna:\n",
    "            if nuc not in 'ATCG':\n",
    "                print (\"This %s is not a DNA sequence\" %dna)\n",
    "                break\n",
    "    dna_checker(dna)   \n",
    "    perGC=((dna.count('G')+dna.count('C'))/len(dna)*100)\n",
    "    print(perGC) \n",
    "\n",
    "percentageGC(mydna)\n",
    "percentageGC(yourdna)\n",
    "percentageGC(testdna)"
   ]
  },
  {
   "cell_type": "code",
   "execution_count": 11,
   "metadata": {},
   "outputs": [
    {
     "name": "stdout",
     "output_type": "stream",
     "text": [
      "----------------------------------------------------------------------------\n",
      "\n"
     ]
    }
   ],
   "source": [
    "with open('Data/humchrx.txt','r') as myfile:\n",
    "    line = myfile.readline()\n",
    "    print(line)"
   ]
  },
  {
   "cell_type": "code",
   "execution_count": null,
   "metadata": {},
   "outputs": [],
   "source": [
    "?open"
   ]
  },
  {
   "cell_type": "code",
   "execution_count": 14,
   "metadata": {},
   "outputs": [
    {
     "ename": "SyntaxError",
     "evalue": "invalid syntax (<ipython-input-14-8004337c3240>, line 5)",
     "output_type": "error",
     "traceback": [
      "\u001b[0;36m  File \u001b[0;32m\"<ipython-input-14-8004337c3240>\"\u001b[0;36m, line \u001b[0;32m5\u001b[0m\n\u001b[0;31m    elif i == 29:\u001b[0m\n\u001b[0m    ^\u001b[0m\n\u001b[0;31mSyntaxError\u001b[0m\u001b[0;31m:\u001b[0m invalid syntax\n"
     ]
    }
   ],
   "source": [
    "with open('Data/humchrx.txt') as pj:\n",
    "    for i, line in enumerate(pj):\n",
    "        if i == 25:\n",
    "            # 26th line\n",
    "        elif i == 29:\n",
    "            # 30th line\n",
    "        elif i > 29:\n",
    "    pj.close()\n"
   ]
  },
  {
   "cell_type": "code",
   "execution_count": 13,
   "metadata": {},
   "outputs": [
    {
     "name": "stdout",
     "output_type": "stream",
     "text": [
      "Mus musculus\n",
      "Mus musculus\n",
      "Mus musculus\n",
      "Mus musculus\n",
      "Mus musculus\n",
      "Mus caroli\n",
      "Mus caroli\n",
      "Mus musculus\n",
      "Mus musculus\n",
      "Mus musculus\n",
      "Mus musculus\n",
      "Mus musculus\n",
      "Mus musculus\n",
      "Mus pahari\n",
      "Rattus norvegicus\n",
      "Peromyscus maniculatus\n",
      "Mus musculus\n",
      "Mus musculus\n",
      "Mus musculus\n",
      "Mus musculus\n",
      "Mus pahari\n",
      "Cricetulus griseus\n",
      "Mesocricetus auratus\n",
      "Rattus norvegicus\n",
      "Nannospalax galili\n",
      "Nannospalax galili\n",
      "Peromyscus maniculatus\n",
      "Mus musculus\n",
      "Cricetulus griseus\n",
      "Castor canadensis\n",
      "Marmota marmota\n",
      "Microtus ochrogaster\n",
      "Ictidomys tridecemlineatus\n",
      "Heterocephalus glaber\n",
      "Heterocephalus glaber\n",
      "Heterocephalus glaber\n",
      "Mus musculus\n",
      "Mus musculus\n",
      "Ictidomys tridecemlineatus\n",
      "Chinchilla lanigera\n",
      "Chinchilla lanigera\n",
      "Chinchilla lanigera\n",
      "Chinchilla lanigera\n",
      "Chinchilla lanigera\n",
      "Equus asinus\n",
      "Equus caballus\n",
      "Equus przewalskii\n",
      "Microcebus murinus\n",
      "Galeopterus variegatus\n",
      "Ceratotherium simum\n",
      "Cercocebus atys\n",
      "Ictidomys tridecemlineatus\n",
      "Marmota marmota\n",
      "Macaca fascicularis\n",
      "Macaca mulatta\n",
      "Cercocebus atys\n",
      "Chlorocebus sabaeus\n",
      "Chlorocebus sabaeus\n",
      "Cercocebus atys\n",
      "Cercocebus atys\n",
      "Macaca nemestrina\n",
      "Ictidomys tridecemlineatus\n",
      "Cercocebus atys\n",
      "Cercocebus atys\n",
      "Cebus capucinus\n",
      "Macaca fascicularis\n",
      "Macaca mulatta\n",
      "Macaca nemestrina\n",
      "Colobus angolensis\n",
      "Macaca mulatta\n",
      "Macaca nemestrina\n",
      "Mandrillus leucophaeus\n",
      "Macaca mulatta\n",
      "Otolemur garnettii\n",
      "Mus musculus\n",
      "Mus musculus\n",
      "Pan troglodytes\n",
      "Papio anubis\n",
      "Pan paniscus\n",
      "Papio anubis\n",
      "Pan troglodytes\n",
      "Pan troglodytes\n",
      "Papio anubis\n",
      "Aotus nancymaae\n",
      "Rhinopithecus roxellana\n",
      "Rhinopithecus roxellana\n",
      "Mus musculus\n",
      "Aotus nancymaae\n",
      "Rhinopithecus roxellana\n",
      "Rhinopithecus roxellana\n",
      "Mus musculus\n",
      "Pongo abelii\n",
      "Mus musculus\n",
      "Rhinopithecus roxellana\n",
      "Pongo abelii\n",
      "Pongo abelii\n",
      "Homo sapiens\n",
      "Mus musculus\n",
      "Homo sapiens\n",
      "Homo sapiens\n"
     ]
    }
   ],
   "source": [
    "##extract\n",
    "fasta_file=\"Data/test.fa\"\n",
    "\n",
    "with open(fasta_file,'r') as myfile:\n",
    "        lines=myfile.readlines()\n",
    "        for line in lines:\n",
    "            if line.startswith(\">\"):\n",
    "                    sp_line=line.split()\n",
    "                    if sp_line[1]==\"PREDICTED:\":\n",
    "                            fields=(sp_line[2],sp_line[3])\n",
    "                    else:\n",
    "                            fields=(sp_line[1],sp_line[2])\n",
    "                    final_name = ' '.join(fields)\n",
    "                    print(final_name)\n",
    "                  \n",
    "            "
   ]
  },
  {
   "cell_type": "code",
   "execution_count": 31,
   "metadata": {},
   "outputs": [],
   "source": [
    "#convert code into a function\n",
    "species=[]\n",
    "def species_extractor(file):\n",
    "    \"\"\"\n",
    "    Takes in a fasta file with the species name in either second or third field and extract the species name into a list\n",
    "    \"\"\"\n",
    "    with open(fasta_file,'r') as myfile:\n",
    "            lines=myfile.readlines()\n",
    "            for line in lines:\n",
    "                if line.startswith(\">\"):\n",
    "                        sp_line=line.split()\n",
    "                        if sp_line[1]==\"PREDICTED:\":\n",
    "                                fields=(sp_line[2],sp_line[3])\n",
    "                        else:\n",
    "                                fields=(sp_line[1],sp_line[2])\n",
    "                        final_name = ' '.join(fields)\n",
    "                        print(final_name)\n",
    "                        species.append(final_name)\n",
    "    return(species)\n"
   ]
  },
  {
   "cell_type": "code",
   "execution_count": 32,
   "metadata": {},
   "outputs": [
    {
     "name": "stdout",
     "output_type": "stream",
     "text": [
      "Mus musculus\n",
      "Mus musculus\n",
      "Mus musculus\n",
      "Mus musculus\n",
      "Mus musculus\n",
      "Mus caroli\n",
      "Mus caroli\n",
      "Mus musculus\n",
      "Mus musculus\n",
      "Mus musculus\n",
      "Mus musculus\n",
      "Mus musculus\n",
      "Mus musculus\n",
      "Mus pahari\n",
      "Rattus norvegicus\n",
      "Peromyscus maniculatus\n",
      "Mus musculus\n",
      "Mus musculus\n",
      "Mus musculus\n",
      "Mus musculus\n",
      "Mus pahari\n",
      "Cricetulus griseus\n",
      "Mesocricetus auratus\n",
      "Rattus norvegicus\n",
      "Nannospalax galili\n",
      "Nannospalax galili\n",
      "Peromyscus maniculatus\n",
      "Mus musculus\n",
      "Cricetulus griseus\n",
      "Castor canadensis\n",
      "Marmota marmota\n",
      "Microtus ochrogaster\n",
      "Ictidomys tridecemlineatus\n",
      "Heterocephalus glaber\n",
      "Heterocephalus glaber\n",
      "Heterocephalus glaber\n",
      "Mus musculus\n",
      "Mus musculus\n",
      "Ictidomys tridecemlineatus\n",
      "Chinchilla lanigera\n",
      "Chinchilla lanigera\n",
      "Chinchilla lanigera\n",
      "Chinchilla lanigera\n",
      "Chinchilla lanigera\n",
      "Equus asinus\n",
      "Equus caballus\n",
      "Equus przewalskii\n",
      "Microcebus murinus\n",
      "Galeopterus variegatus\n",
      "Ceratotherium simum\n",
      "Cercocebus atys\n",
      "Ictidomys tridecemlineatus\n",
      "Marmota marmota\n",
      "Macaca fascicularis\n",
      "Macaca mulatta\n",
      "Cercocebus atys\n",
      "Chlorocebus sabaeus\n",
      "Chlorocebus sabaeus\n",
      "Cercocebus atys\n",
      "Cercocebus atys\n",
      "Macaca nemestrina\n",
      "Ictidomys tridecemlineatus\n",
      "Cercocebus atys\n",
      "Cercocebus atys\n",
      "Cebus capucinus\n",
      "Macaca fascicularis\n",
      "Macaca mulatta\n",
      "Macaca nemestrina\n",
      "Colobus angolensis\n",
      "Macaca mulatta\n",
      "Macaca nemestrina\n",
      "Mandrillus leucophaeus\n",
      "Macaca mulatta\n",
      "Otolemur garnettii\n",
      "Mus musculus\n",
      "Mus musculus\n",
      "Pan troglodytes\n",
      "Papio anubis\n",
      "Pan paniscus\n",
      "Papio anubis\n",
      "Pan troglodytes\n",
      "Pan troglodytes\n",
      "Papio anubis\n",
      "Aotus nancymaae\n",
      "Rhinopithecus roxellana\n",
      "Rhinopithecus roxellana\n",
      "Mus musculus\n",
      "Aotus nancymaae\n",
      "Rhinopithecus roxellana\n",
      "Rhinopithecus roxellana\n",
      "Mus musculus\n",
      "Pongo abelii\n",
      "Mus musculus\n",
      "Rhinopithecus roxellana\n",
      "Pongo abelii\n",
      "Pongo abelii\n",
      "Homo sapiens\n",
      "Mus musculus\n",
      "Homo sapiens\n",
      "Homo sapiens\n",
      "['Mus musculus', 'Mus musculus', 'Mus musculus', 'Mus musculus', 'Mus musculus', 'Mus caroli', 'Mus caroli', 'Mus musculus', 'Mus musculus', 'Mus musculus', 'Mus musculus', 'Mus musculus', 'Mus musculus', 'Mus pahari', 'Rattus norvegicus', 'Peromyscus maniculatus', 'Mus musculus', 'Mus musculus', 'Mus musculus', 'Mus musculus', 'Mus pahari', 'Cricetulus griseus', 'Mesocricetus auratus', 'Rattus norvegicus', 'Nannospalax galili', 'Nannospalax galili', 'Peromyscus maniculatus', 'Mus musculus', 'Cricetulus griseus', 'Castor canadensis', 'Marmota marmota', 'Microtus ochrogaster', 'Ictidomys tridecemlineatus', 'Heterocephalus glaber', 'Heterocephalus glaber', 'Heterocephalus glaber', 'Mus musculus', 'Mus musculus', 'Ictidomys tridecemlineatus', 'Chinchilla lanigera', 'Chinchilla lanigera', 'Chinchilla lanigera', 'Chinchilla lanigera', 'Chinchilla lanigera', 'Equus asinus', 'Equus caballus', 'Equus przewalskii', 'Microcebus murinus', 'Galeopterus variegatus', 'Ceratotherium simum', 'Cercocebus atys', 'Ictidomys tridecemlineatus', 'Marmota marmota', 'Macaca fascicularis', 'Macaca mulatta', 'Cercocebus atys', 'Chlorocebus sabaeus', 'Chlorocebus sabaeus', 'Cercocebus atys', 'Cercocebus atys', 'Macaca nemestrina', 'Ictidomys tridecemlineatus', 'Cercocebus atys', 'Cercocebus atys', 'Cebus capucinus', 'Macaca fascicularis', 'Macaca mulatta', 'Macaca nemestrina', 'Colobus angolensis', 'Macaca mulatta', 'Macaca nemestrina', 'Mandrillus leucophaeus', 'Macaca mulatta', 'Otolemur garnettii', 'Mus musculus', 'Mus musculus', 'Pan troglodytes', 'Papio anubis', 'Pan paniscus', 'Papio anubis', 'Pan troglodytes', 'Pan troglodytes', 'Papio anubis', 'Aotus nancymaae', 'Rhinopithecus roxellana', 'Rhinopithecus roxellana', 'Mus musculus', 'Aotus nancymaae', 'Rhinopithecus roxellana', 'Rhinopithecus roxellana', 'Mus musculus', 'Pongo abelii', 'Mus musculus', 'Rhinopithecus roxellana', 'Pongo abelii', 'Pongo abelii', 'Homo sapiens', 'Mus musculus', 'Homo sapiens', 'Homo sapiens']\n"
     ]
    }
   ],
   "source": [
    "species2=species_extractor(fasta_file)\n",
    "print(species2)"
   ]
  },
  {
   "cell_type": "code",
   "execution_count": 33,
   "metadata": {},
   "outputs": [],
   "source": [
    "#write species name into a file\n",
    "species_file=\"Data/species.txt\""
   ]
  },
  {
   "cell_type": "code",
   "execution_count": 34,
   "metadata": {},
   "outputs": [],
   "source": [
    "with open(species_file,\"w\") as outfile:\n",
    "    outfile.write(\"Species Names\\n\")\n",
    "    for sp in species:\n",
    "             outfile.write(sp+\"\\n\")\n",
    "   "
   ]
  },
  {
   "cell_type": "code",
   "execution_count": 1,
   "metadata": {},
   "outputs": [],
   "source": [
    "import mymodule"
   ]
  },
  {
   "cell_type": "code",
   "execution_count": 3,
   "metadata": {},
   "outputs": [
    {
     "name": "stdout",
     "output_type": "stream",
     "text": [
      "Hello, Jonathan\n"
     ]
    }
   ],
   "source": [
    "mymodule.greeting(\"Jonathan\")"
   ]
  },
  {
   "cell_type": "code",
   "execution_count": 4,
   "metadata": {},
   "outputs": [],
   "source": [
    "import gene"
   ]
  },
  {
   "cell_type": "code",
   "execution_count": 7,
   "metadata": {
    "collapsed": true,
    "jupyter": {
     "outputs_hidden": true
    },
    "tags": []
   },
   "outputs": [
    {
     "name": "stdout",
     "output_type": "stream",
     "text": [
      "['ABCB7', 'ABCD1', 'ACE2', 'ACOT9', 'ACSL4', 'ACTRT1', 'ADGRG2', 'ADGRG4', 'AFF2', 'AGTR2', 'AIFM1', 'AKAP14', 'AKAP17A', 'AKAP4', 'ALAS2', 'ALG13', 'AMELX', 'AMER1', 'AMMECR1', 'AMOT', 'ANOS1', 'AP1S2', 'APEX2', 'APLN', 'APOO', 'APOOL', 'AR', 'ARAF', 'ARHGAP36', 'ARHGAP4', 'ARHGAP6', 'ARHGEF6', 'ARHGEF9', 'ARL13A', 'ARMCX1', 'ARMCX2', 'ARMCX3', 'ARMCX4', 'ARMCX5', 'ARMCX6', 'ARR3', 'ARSD', 'ARSE', 'ARSF', 'ARSH', 'ARX', 'ASB11', 'ASB12', 'ASB9', 'ASMT', 'ASMTL', 'ATG4A', 'ATP11C', 'ATP1B4', 'ATP2B3', 'ATP6AP1', 'ATP6AP2', 'ATP7A', 'ATRX', 'ATXN3L', 'AVPR2', 'AWAT1', 'AWAT2', 'BCAP31', 'BCLAF3', 'BCOR', 'BCORL1', 'BEND2', 'BEX1', 'BEX2', 'BEX3', 'BEX4', 'BEX5', 'BGN', 'BHLHB9', 'BMP15', 'BMP2KL', 'BMX', 'BRCC3', 'BRS3', 'BRWD3', 'BTK', 'C1GALT1C1', 'CA5B', 'CA5BP1', 'CACNA1F', 'CAPN6', 'CASK', 'CBLL2', 'CCDC120', 'CCDC160', 'CCDC22', 'CCNB3', 'CCNQ', 'CD40LG', 'CD99', 'CD99L2', 'CDK16', 'CDKL5', 'CDR1', 'CDX4', 'CENPI', 'CENPVL1', 'CENPVL2', 'CENPVL3', 'CETN2', 'CFAP47', 'CFP', 'CHIC1', 'CHM', 'CHRDL1', 'CHST7', 'CITED1', 'CLCN4', 'CLCN5', 'CLDN2', 'CLDN34', 'CLIC2', 'CLTRN', 'CMC4', 'CNGA2', 'CNKSR2', 'COL4A5', 'COL4A6', 'COX7B', 'CPXCR1', 'CRLF2', 'CSAG1', 'CSAG2', 'CSAG3', 'CSF2RA', 'CSTF2', 'CT45A1', 'CT45A10', 'CT45A2', 'CT45A3', 'CT45A5', 'CT45A6', 'CT45A7', 'CT45A8', 'CT45A9', 'CT47A1', 'CT47A10', 'CT47A11', 'CT47A12', 'CT47A2', 'CT47A3', 'CT47A4', 'CT47A5', 'CT47A6', 'CT47A7', 'CT47A8', 'CT47A9', 'CT47B1', 'CT55', 'CT83', 'CTAG1A', 'CTAG1B', 'CTAG2', 'CTPS2', 'CUL4B', 'CXCR3', 'CXorf1', 'CXorf21', 'CXorf38', 'CXorf40A', 'CXorf40B', 'CXorf49', 'CXorf49B', 'CXorf51A', 'CXorf51B', 'CXorf56', 'CXorf58', 'CXorf65', 'CXorf66', 'CXorf67', 'CYBB', 'CYLC1', 'CYSLTR1', 'DACH2', 'DCAF12L1', 'DCAF12L2', 'DCAF8L1', 'DCAF8L2', 'DCX', 'DDX3X', 'DDX53', 'DGAT2L6', 'DGKK', 'DHRSX', 'DIAPH2', 'DIAPH2-AS1', 'DIPK2B', 'DKC1', 'DLG3', 'DMD', 'DMRTC1', 'DMRTC1B', 'DNASE1L1', 'DOCK11', 'DRP2', 'DUSP21', 'DUSP9', 'DYNLT3', 'EBP', 'EDA', 'EDA2R', 'EFHC2', 'EFNB1', 'EGFL6', 'EIF1AX', 'EIF2S3', 'ELF4', 'ELK1', 'EMD', 'ENOX2', 'ERAS', 'ERCC6L', 'ERVFC1', 'ESX1', 'ETDA', 'ETDB', 'ETDC', 'F8', 'F8A1', 'F8A2', 'F8A3', 'F9', 'FAAH2', 'FAM104B', 'FAM120C', 'FAM122B', 'FAM122C', 'FAM133A', 'FAM155B', 'FAM156A', 'FAM156B', 'FAM199X', 'FAM223A', 'FAM223B', 'FAM236A', 'FAM236B', 'FAM236C', 'FAM236D', 'FAM3A', 'FAM45BP', 'FAM47A', 'FAM47B', 'FAM47C', 'FAM47DP', 'FAM50A', 'FAM9A', 'FAM9B', 'FAM9C', 'FANCB', 'FATE1', 'FGD1', 'FGF13', 'FGF16', 'FHL1', 'FLNA', 'FMR1', 'FMR1NB', 'FOXO4', 'FOXP3', 'FOXR2', 'FRMD7', 'FRMD8P1', 'FRMPD3', 'FRMPD4', 'FTH1P19', 'FTHL17', 'FTSJ1', 'FUNDC1', 'FUNDC2', 'FXYD6P3', 'G6PD', 'GAB3', 'GABRA3', 'GABRE', 'GABRQ', 'GAGE1', 'GAGE10', 'GAGE12B', 'GAGE12C', 'GAGE12D', 'GAGE12E', 'GAGE12F', 'GAGE12G', 'GAGE12H', 'GAGE12I', 'GAGE12J', 'GAGE13', 'GAGE2A', 'GAGE2B', 'GAGE2C', 'GAGE2D', 'GAGE2E', 'GAGE4', 'GAGE5', 'GAGE6', 'GAGE7', 'GAGE8', 'GATA1', 'GCNA', 'GDI1', 'GDPD2', 'GEMIN8', 'GJB1', 'GK', 'GLA', 'GLOD5', 'GLRA2', 'GLRA4', 'GLUD2', 'GNL3L', 'GPC3', 'GPC4', 'GPKOW', 'GPM6B', 'GPR101', 'GPR119', 'GPR143', 'GPR173', 'GPR174', 'GPR34', 'GPR50', 'GPR82', 'GPRASP1', 'GPRASP2', 'GRIA3', 'GRIPAP1', 'GRPR', 'GSPT2', 'GTPBP6', 'GUCY2F', 'GYG2', 'H2AFB1', 'H2AFB2', 'H2AFB3', 'H2BFM', 'H2BFWT', 'HAUS7', 'HCCS', 'HCFC1', 'HDAC6', 'HDAC8', 'HDX', 'HEPH', 'HMGB3', 'HMGN5', 'HNRNPH2', 'HPRT1', 'HS6ST2', 'HSD17B10', 'HSFX1', 'HSFX2', 'HSFX3', 'HSFX4', 'HTATSF1', 'HTR2C', 'HUWE1', 'HYPM', 'IDH3G', 'IDS', 'IGBP1', 'IGSF1', 'IKBKG', 'IL13RA1', 'IL13RA2', 'IL1RAPL1', 'IL1RAPL2', 'IL2RG', 'IL3RA', 'IL9R', 'INE1', 'INTS6L', 'IQSEC2', 'IRAK1', 'IRS4', 'ITGB1BP2', 'ITIH6', 'ITM2A', 'JADE3', 'KCND1', 'KCNE5', 'KDM5C', 'KDM6A', 'KIAA1210', 'KIF4A', 'KLF8', 'KLHL13', 'KLHL15', 'KLHL34', 'KLHL4', 'KRBOX4', 'L1CAM', 'LAGE3', 'LAMP2', 'LANCL3', 'LAS1L', 'LCA10', 'LDOC1', 'LHFPL1', 'LINC00269', 'LINC01545', 'LINC01546', 'LINC01560', 'LONRF3', 'LPAR4', 'LRCH2', 'LUZP4', 'MAGEA1', 'MAGEA10', 'MAGEA11', 'MAGEA12', 'MAGEA13P', 'MAGEA2', 'MAGEA2B', 'MAGEA3', 'MAGEA4', 'MAGEA5', 'MAGEA6', 'MAGEA8', 'MAGEA9', 'MAGEA9B', 'MAGEB1', 'MAGEB10', 'MAGEB16', 'MAGEB17', 'MAGEB18', 'MAGEB2', 'MAGEB3', 'MAGEB4', 'MAGEB5', 'MAGEB6', 'MAGEC1', 'MAGEC2', 'MAGEC3', 'MAGED1', 'MAGED2', 'MAGED4', 'MAGED4B', 'MAGEE1', 'MAGEE2', 'MAGEH1', 'MAGIX', 'MAGT1', 'MAMLD1', 'MAOA', 'MAOB', 'MAP3K15', 'MAP7D2', 'MAP7D3', 'MBNL3', 'MBTPS2', 'MCF2', 'MCTS1', 'MECP2', 'MED12', 'MED14', 'MED14OS', 'MID1', 'MID1IP1', 'MID2', 'MKRN4P', 'MMGT1', 'MORC4', 'MORF4L2', 'MOSPD1', 'MOSPD2', 'MPC1L', 'MPP1', 'MSL3', 'MSN', 'MTCP1', 'MTM1', 'MTMR1', 'MTMR8', 'MTRNR2L10', 'MXRA5', 'MYCLP1', 'NAA10', 'NAP1L2', 'NAP1L3', 'NAP1L6', 'NBDY', 'NCBP2L', 'NDP', 'NDUFA1', 'NDUFB11', 'NEXMIF', 'NHS', 'NHSL2', 'NKAP', 'NKAPP1', 'NKRF', 'NLGN3', 'NLGN4X', 'NLRP2B', 'NONO', 'NOX1', 'NR0B1', 'NRK', 'NSDHL', 'NUDT10', 'NUDT11', 'NUP62CL', 'NXF2', 'NXF2B', 'NXF3', 'NXF5', 'NXT2', 'NYX', 'OCRL', 'OFD1', 'OGT', 'OPHN1', 'OPN1LW', 'OPN1MW', 'OPN1MW2', 'OPN1MW3', 'OR13H1', 'OTC', 'OTUD5', 'OTUD6A', 'P2RY10', 'P2RY4', 'P2RY8', 'PABPC1L2A', 'PABPC1L2B', 'PABPC5', 'PAGE1', 'PAGE2', 'PAGE2B', 'PAGE3', 'PAGE4', 'PAGE5', 'PAK3', 'PASD1', 'PBDC1', 'PCDH11X', 'PCDH19', 'PCSK1N', 'PCYT1B', 'PDHA1', 'PDK3', 'PDZD11', 'PDZD4', 'PFKFB1', 'PGAM4', 'PGK1', 'PGRMC1', 'PHEX', 'PHF6', 'PHF8', 'PHKA1', 'PHKA2', 'PIGA', 'PIH1D3', 'PIM2', 'PIN4', 'PIR', 'PJA1', 'PLAC1', 'PLCXD1', 'PLP1', 'PLP2', 'PLS3', 'PLXNA3', 'PLXNB3', 'PNCK', 'PNMA3', 'PNMA5', 'PNMA6A', 'PNMA6E', 'PNMA6F', 'PNPLA4', 'POF1B', 'POLA1', 'PORCN', 'POU3F4', 'PPEF1', 'PPP1R2C', 'PPP1R3F', 'PPP2R3B', 'PPP4R3C', 'PQBP1', 'PRAF2', 'PRDX4', 'PRICKLE3', 'PRKX', 'PRPS1', 'PRPS2', 'PRR32', 'PRRG1', 'PRRG3', 'PSMD10', 'PTCHD1', 'PUDP', 'PWWP3B', 'PYY3', 'RAB33A', 'RAB39B', 'RAB40A', 'RAB40AL', 'RAB41', 'RAB9A', 'RAB9B', 'RADX', 'RAI2', 'RAP2C', 'RBBP7', 'RBM10', 'RBM3', 'RBM41', 'RBMX', 'RBMX2', 'RBMXL3', 'RENBP', 'REPS2', 'RGN', 'RHOXF1', 'RHOXF2', 'RHOXF2B', 'RIBC1', 'RIPPLY1', 'RLIM', 'RNF113A', 'RNF128', 'RP2', 'RPA4', 'RPGR', 'RPL10', 'RPL36A', 'RPL39', 'RPL9P7', 'RPS26P11', 'RPS4X', 'RPS6KA3', 'RPS6KA6', 'RRAGB', 'RS1', 'RTL3', 'RTL4', 'RTL5', 'RTL8A', 'RTL8B', 'RTL8C', 'RTL8C', 'RTL9', 'S100G', 'SAGE1', 'SAGE2P', 'SASH3', 'SAT1', 'SATL1', 'SCML1', 'SCML2', 'SEPT6', 'SERPINA7', 'SERTM2', 'SH2D1A', 'SH3BGRL', 'SH3KBP1', 'SHOX', 'SHROOM2', 'SHROOM4', 'SLC10A3', 'SLC16A2', 'SLC25A14', 'SLC25A43', 'SLC25A5', 'SLC25A53', 'SLC25A6', 'SLC35A2', 'SLC38A5', 'SLC6A14', 'SLC6A8', 'SLC7A3', 'SLC9A6', 'SLC9A7', 'SLITRK2', 'SLITRK4', 'SMARCA1', 'SMC1A', 'SMIM10', 'SMIM10L2A', 'SMIM10L2B', 'SMIM9', 'SMPX', 'SMS', 'SNURFL', 'SNX12', 'SOWAHD', 'SOX3', 'SPACA5', 'SPACA5B', 'SPANXA1', 'SPANXA2', 'SPANXA2-OT1Xq27.2', 'SPANXB1', 'SPANXC', 'SPANXD', 'SPANXN1', 'SPANXN2', 'SPANXN3', 'SPANXN4', 'SPANXN5', 'SPIN2A', 'SPIN2B', 'SPIN3', 'SPIN4', 'SPRY3', 'SRPK3', 'SRPX', 'SRPX2', 'SSR4', 'SSX1', 'SSX2', 'SSX2B', 'SSX3', 'SSX4', 'SSX4B', 'SSX5', 'SSX6P', 'SSX7', 'SSX8P', 'SSX9P', 'STAG2', 'STARD8', 'STK26', 'STS', 'SUPT20HL1', 'SUPT20HL2', 'SUV39H1', 'SYAP1', 'SYN1', 'SYP', 'SYTL4', 'SYTL5', 'TAB3', 'TAF1', 'TAF7L', 'TAF9B', 'TAZ', 'TBC1D25', 'TBC1D8B', 'TBL1X', 'TBX22', 'TCEAL1', 'TCEAL2', 'TCEAL3', 'TCEAL4', 'TCEAL5', 'TCEAL6', 'TCEAL7', 'TCEAL8', 'TCEAL9', 'TCEANC', 'TCP11X1', 'TCP11X2', 'TDGF1P3', 'TENM1', 'TENT5D', 'TEX11', 'TEX13A', 'TEX13B', 'TEX13C', 'TEX13D', 'TEX28', 'TEX28P1', 'TEX28P2', 'TFDP3', 'TFE3', 'TGIF2LX', 'THOC2', 'TIMM17B', 'TIMM8A', 'TIMP1', 'TKTL1', 'TLR7', 'TLR8', 'TMEM164', 'TMEM185A', 'TMEM187', 'TMEM255A', 'TMEM31', 'TMEM35A', 'TMEM47', 'TMLHE', 'TMSB15A', 'TMSB15B', 'TMSB4X', 'TNMD', 'TRAPPC2', 'TREX2', 'TRMT2B', 'TRO', 'TRPC5', 'TRPC5OS', 'TSC22D3', 'TSPAN6', 'TSPAN7', 'TSPYL2', 'TSR2', 'TXLNG', 'UBA1', 'UBE2A', 'UBE2DNL', 'UBE2NL', 'UBL4A', 'UBQLN2', 'UPF3B', 'UPRT', 'USP11', 'USP26', 'USP27X', 'USP51', 'USP9X', 'UTP14A', 'UXT', 'VAMP7', 'VBP1', 'VCX', 'VCX2', 'VCX3A', 'VCX3B', 'VEGFD', 'VENTXP1', 'VGLL1', 'VMA21', 'VSIG1', 'VSIG4', 'WAS', 'WASH6P', 'WDR13', 'WDR44', 'WDR45', 'WNK3', 'WWC3', 'XAGE1A', 'XAGE1B', 'XAGE1C', 'XAGE1D', 'XAGE1E', 'XAGE2', 'XAGE3', 'XAGE5', 'XG', 'XIAP', 'XK', 'XKRX', 'XPNPEP2', 'YIPF6', 'YY2', 'ZBED1', 'ZBTB33', 'ZC3H12B', 'ZC4H2', 'ZCCHC12', 'ZCCHC13', 'ZCCHC18', 'ZDHHC15', 'ZDHHC9', 'ZFP92', 'ZFX', 'ZIC3', 'ZMAT1', 'ZMYM3', 'ZNF157', 'ZNF182', 'ZNF185', 'ZNF275', 'ZNF280C', 'ZNF41', 'ZNF449', 'ZNF630', 'ZNF674', 'ZNF711', 'ZNF75D', 'ZNF81', 'ZRSR2', 'ZXDA', 'ZXDB']\n"
     ]
    }
   ],
   "source": [
    "humchrx=\"Data/humchrx.txt\"\n",
    "gene_list=gene.genename_extractor(humchrx)\n",
    "print(gene_list)"
   ]
  },
  {
   "cell_type": "code",
   "execution_count": null,
   "metadata": {},
   "outputs": [],
   "source": []
  }
 ],
 "metadata": {
  "kernelspec": {
   "display_name": "Python 3",
   "language": "python",
   "name": "python3"
  },
  "language_info": {
   "codemirror_mode": {
    "name": "ipython",
    "version": 3
   },
   "file_extension": ".py",
   "mimetype": "text/x-python",
   "name": "python",
   "nbconvert_exporter": "python",
   "pygments_lexer": "ipython3",
   "version": "3.9.5"
  }
 },
 "nbformat": 4,
 "nbformat_minor": 4
}
